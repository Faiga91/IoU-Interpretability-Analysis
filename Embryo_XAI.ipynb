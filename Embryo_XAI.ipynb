{
  "nbformat": 4,
  "nbformat_minor": 0,
  "metadata": {
    "colab": {
      "provenance": [],
      "authorship_tag": "ABX9TyMSKu+ZtojpKx87DwlNpL8b",
      "include_colab_link": true
    },
    "kernelspec": {
      "name": "python3",
      "display_name": "Python 3"
    },
    "language_info": {
      "name": "python"
    }
  },
  "cells": [
    {
      "cell_type": "markdown",
      "metadata": {
        "id": "view-in-github",
        "colab_type": "text"
      },
      "source": [
        "<a href=\"https://colab.research.google.com/github/Faiga91/IoU-Interpretability-Analysis/blob/Feature%2Fnum-of-pixels/Embryo_XAI.ipynb\" target=\"_parent\"><img src=\"https://colab.research.google.com/assets/colab-badge.svg\" alt=\"Open In Colab\"/></a>"
      ]
    },
    {
      "cell_type": "code",
      "execution_count": 1,
      "metadata": {
        "colab": {
          "base_uri": "https://localhost:8080/"
        },
        "cellView": "form",
        "id": "i5rdM80YTVqD",
        "outputId": "f3b043da-bbaf-4682-bcb9-6850e6ffe00d"
      },
      "outputs": [
        {
          "output_type": "stream",
          "name": "stdout",
          "text": [
            "Requirement already satisfied: numpy in /usr/local/lib/python3.10/dist-packages (1.23.5)\n",
            "Requirement already satisfied: opencv-python in /usr/local/lib/python3.10/dist-packages (4.8.0.76)\n",
            "Requirement already satisfied: pillow in /usr/local/lib/python3.10/dist-packages (9.4.0)\n"
          ]
        }
      ],
      "source": [
        "#@markdown #Install Python Dependencies\n",
        "\n",
        "!pip install numpy opencv-python pillow\n"
      ]
    },
    {
      "cell_type": "code",
      "source": [
        "#@markdown # Clone Faiga's Script from Github\n",
        "\n",
        "!git clone https://github.com/Faiga91/IoU-Interpretability-Analysis.git"
      ],
      "metadata": {
        "colab": {
          "base_uri": "https://localhost:8080/"
        },
        "cellView": "form",
        "id": "ngVRvBnST08y",
        "outputId": "e9739ac6-452b-4451-9157-cccf4c3cbaa5"
      },
      "execution_count": 2,
      "outputs": [
        {
          "output_type": "stream",
          "name": "stdout",
          "text": [
            "Cloning into 'IoU-Interpretability-Analysis'...\n",
            "remote: Enumerating objects: 44, done.\u001b[K\n",
            "remote: Counting objects: 100% (44/44), done.\u001b[K\n",
            "remote: Compressing objects: 100% (26/26), done.\u001b[K\n",
            "remote: Total 44 (delta 21), reused 37 (delta 17), pack-reused 0\u001b[K\n",
            "Receiving objects: 100% (44/44), 13.99 KiB | 2.80 MiB/s, done.\n",
            "Resolving deltas: 100% (21/21), done.\n"
          ]
        }
      ]
    },
    {
      "cell_type": "code",
      "source": [
        "#@markdown #Mount Google Drive\n",
        "\n",
        "from google.colab import drive\n",
        "drive.mount('/content/drive')"
      ],
      "metadata": {
        "colab": {
          "base_uri": "https://localhost:8080/"
        },
        "cellView": "form",
        "id": "sb2B0LArUTVf",
        "outputId": "88580dd1-3a5a-4645-b9a5-fb0a95195991"
      },
      "execution_count": 4,
      "outputs": [
        {
          "output_type": "stream",
          "name": "stdout",
          "text": [
            "Mounted at /content/drive\n"
          ]
        }
      ]
    },
    {
      "cell_type": "code",
      "source": [
        "import os\n",
        "\n",
        "def browse_files(starting_directory=\"/content/drive/\"):\n",
        "    while True:\n",
        "        os.chdir(starting_directory)\n",
        "        print(f\"Current Directory: {os.getcwd()}\")\n",
        "        files = os.listdir()\n",
        "        print(\"Folders:\")\n",
        "        [print(f\" - {f}\") for f in files if os.path.isdir(f)]\n",
        "        print(\"\\nEnter a folder name to navigate into or '../' to go back. Enter '.' to select the current folder.\")\n",
        "        selection = input().strip()\n",
        "        if selection == '.':\n",
        "            return os.getcwd()\n",
        "        elif selection == '..':\n",
        "            starting_directory = os.path.dirname(os.getcwd())\n",
        "        else:\n",
        "            starting_directory = os.path.join(os.getcwd(), selection)\n",
        "\n",
        "IMAGES_DIR = browse_files()\n",
        "print(f\"Selected Directory: {IMAGES_DIR}\")\n"
      ],
      "metadata": {
        "colab": {
          "base_uri": "https://localhost:8080/"
        },
        "id": "DWjRUOQiUUhA",
        "outputId": "41d72517-b1f0-4ce5-aacd-3ede6b02e57b"
      },
      "execution_count": null,
      "outputs": [
        {
          "output_type": "stream",
          "name": "stdout",
          "text": [
            "Current Directory: /content/drive\n",
            "Folders:\n",
            " - MyDrive\n",
            " - .shortcut-targets-by-id\n",
            " - .file-revisions-by-id\n",
            " - Othercomputers\n",
            " - .Trash-0\n",
            "\n",
            "Enter a folder name to navigate into or '../' to go back. Enter '.' to select the current folder.\n",
            "MyDrive\n",
            "Current Directory: /content/drive/MyDrive\n",
            "Folders:\n",
            " - WeVideo\n",
            " - DSP Tutorials\n",
            " - Sound Recognition\n",
            " - jack2-1.9.12\n",
            " - Tutorials\n",
            " - MyCodes\n",
            " - Europass\n",
            " - Thesis\n",
            " - ASER-the-document\n",
            " - AESR-master\n",
            " - AESR Results\n",
            " - RoadTempSimulation\n",
            " - Colab Notebooks\n",
            " - Road\n",
            " - BPE Project\n",
            " - Diktater (1)\n",
            " - Diktater\n",
            " - INTAP 2020\n",
            " - Research\n",
            " - Notability\n",
            " - Papers\n",
            " - Mac\n",
            " - Sound Recognition-train use case \n",
            " - NoiseData (1)\n",
            " - .ipynb_checkpoints\n",
            " - NoiseData\n",
            " - Coursera - GAN\n",
            " - PhD thesis\n",
            " - Geilo cabin trip | 2023\n",
            " - IoU-Scores-Lime-GradCAM\n",
            "\n",
            "Enter a folder name to navigate into or '../' to go back. Enter '.' to select the current folder.\n"
          ]
        }
      ]
    },
    {
      "cell_type": "code",
      "source": [],
      "metadata": {
        "id": "ICnv0qZCU470"
      },
      "execution_count": null,
      "outputs": []
    }
  ]
}